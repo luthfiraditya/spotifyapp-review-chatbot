{
 "cells": [
  {
   "cell_type": "code",
   "execution_count": 1,
   "metadata": {},
   "outputs": [
    {
     "name": "stderr",
     "output_type": "stream",
     "text": [
      "c:\\Users\\PF2L6BL6\\Documents\\luthfi\\office work\\llm_explore\\spotifyapp-review-chatbot\\.venv\\Lib\\site-packages\\sentence_transformers\\cross_encoder\\CrossEncoder.py:13: TqdmWarning: IProgress not found. Please update jupyter and ipywidgets. See https://ipywidgets.readthedocs.io/en/stable/user_install.html\n",
      "  from tqdm.autonotebook import tqdm, trange\n"
     ]
    }
   ],
   "source": [
    "import pandas as pd\n",
    "from sentence_transformers import SentenceTransformer"
   ]
  },
  {
   "cell_type": "code",
   "execution_count": 14,
   "metadata": {},
   "outputs": [],
   "source": [
    "data = pd.read_csv('../data/raw_data/SPOTIFY_REVIEWS.csv')"
   ]
  },
  {
   "cell_type": "code",
   "execution_count": 3,
   "metadata": {},
   "outputs": [],
   "source": [
    "data['review_text'] = data['review_text'].str.lower() \n",
    "data['review_text'] = data['review_text'].str.replace('[^\\w\\s]','')"
   ]
  },
  {
   "cell_type": "code",
   "execution_count": 15,
   "metadata": {},
   "outputs": [
    {
     "data": {
      "text/html": [
       "<div>\n",
       "<style scoped>\n",
       "    .dataframe tbody tr th:only-of-type {\n",
       "        vertical-align: middle;\n",
       "    }\n",
       "\n",
       "    .dataframe tbody tr th {\n",
       "        vertical-align: top;\n",
       "    }\n",
       "\n",
       "    .dataframe thead th {\n",
       "        text-align: right;\n",
       "    }\n",
       "</style>\n",
       "<table border=\"1\" class=\"dataframe\">\n",
       "  <thead>\n",
       "    <tr style=\"text-align: right;\">\n",
       "      <th></th>\n",
       "      <th>Unnamed: 0</th>\n",
       "      <th>review_id</th>\n",
       "      <th>pseudo_author_id</th>\n",
       "      <th>author_name</th>\n",
       "      <th>review_text</th>\n",
       "      <th>review_rating</th>\n",
       "      <th>review_likes</th>\n",
       "      <th>author_app_version</th>\n",
       "      <th>review_timestamp</th>\n",
       "    </tr>\n",
       "  </thead>\n",
       "  <tbody>\n",
       "    <tr>\n",
       "      <th>783</th>\n",
       "      <td>783</td>\n",
       "      <td>4d81989a-0ce0-4531-9dab-bfd74a149bdf</td>\n",
       "      <td>120066505577724443671</td>\n",
       "      <td>A Google user</td>\n",
       "      <td>Before the updates on the user interface and a...</td>\n",
       "      <td>1</td>\n",
       "      <td>0</td>\n",
       "      <td>1.1.0.113</td>\n",
       "      <td>2014-05-28 23:34:30</td>\n",
       "    </tr>\n",
       "  </tbody>\n",
       "</table>\n",
       "</div>"
      ],
      "text/plain": [
       "     Unnamed: 0                             review_id       pseudo_author_id  \\\n",
       "783         783  4d81989a-0ce0-4531-9dab-bfd74a149bdf  120066505577724443671   \n",
       "\n",
       "       author_name                                        review_text  \\\n",
       "783  A Google user  Before the updates on the user interface and a...   \n",
       "\n",
       "     review_rating  review_likes author_app_version     review_timestamp  \n",
       "783              1             0          1.1.0.113  2014-05-28 23:34:30  "
      ]
     },
     "execution_count": 15,
     "metadata": {},
     "output_type": "execute_result"
    }
   ],
   "source": [
    "data[data['review_id']=='4d81989a-0ce0-4531-9dab-bfd74a149bdf']"
   ]
  },
  {
   "cell_type": "code",
   "execution_count": 12,
   "metadata": {},
   "outputs": [
    {
     "data": {
      "text/html": [
       "<div>\n",
       "<style scoped>\n",
       "    .dataframe tbody tr th:only-of-type {\n",
       "        vertical-align: middle;\n",
       "    }\n",
       "\n",
       "    .dataframe tbody tr th {\n",
       "        vertical-align: top;\n",
       "    }\n",
       "\n",
       "    .dataframe thead th {\n",
       "        text-align: right;\n",
       "    }\n",
       "</style>\n",
       "<table border=\"1\" class=\"dataframe\">\n",
       "  <thead>\n",
       "    <tr style=\"text-align: right;\">\n",
       "      <th></th>\n",
       "      <th>review_id</th>\n",
       "      <th>review_text</th>\n",
       "    </tr>\n",
       "  </thead>\n",
       "  <tbody>\n",
       "    <tr>\n",
       "      <th>0</th>\n",
       "      <td>14a011a8-7544-47b4-8480-c502af0ac26f</td>\n",
       "      <td>use it every day</td>\n",
       "    </tr>\n",
       "    <tr>\n",
       "      <th>1</th>\n",
       "      <td>bfa8876b-470e-4640-83a7-77427f7f37e8</td>\n",
       "      <td>i enjoy the awesome ui of this app, and it has...</td>\n",
       "    </tr>\n",
       "    <tr>\n",
       "      <th>2</th>\n",
       "      <td>70e8252f-058a-47d9-b066-df9e1571c970</td>\n",
       "      <td>love it! especially the new design!</td>\n",
       "    </tr>\n",
       "    <tr>\n",
       "      <th>3</th>\n",
       "      <td>672a155a-e81e-4d28-bdeb-a74c031bc072</td>\n",
       "      <td>awesome ui, best music app out there!</td>\n",
       "    </tr>\n",
       "    <tr>\n",
       "      <th>4</th>\n",
       "      <td>bbc1bf95-ed36-41a1-8b98-0f2e314caea5</td>\n",
       "      <td>as a professional android developer i'm glad t...</td>\n",
       "    </tr>\n",
       "    <tr>\n",
       "      <th>...</th>\n",
       "      <td>...</td>\n",
       "      <td>...</td>\n",
       "    </tr>\n",
       "    <tr>\n",
       "      <th>95</th>\n",
       "      <td>bfe41bd7-1d21-4718-9f86-ee7d0d659556</td>\n",
       "      <td>love this app, has all the music i love whenev...</td>\n",
       "    </tr>\n",
       "    <tr>\n",
       "      <th>96</th>\n",
       "      <td>0e98ddfb-7176-4417-87ab-4133162e1d13</td>\n",
       "      <td>the app is great. never lags for me. doesn't d...</td>\n",
       "    </tr>\n",
       "    <tr>\n",
       "      <th>97</th>\n",
       "      <td>62020b3d-bd57-429b-9323-bcddb256f8f0</td>\n",
       "      <td>bluh. why could you not just update the old ap...</td>\n",
       "    </tr>\n",
       "    <tr>\n",
       "      <th>98</th>\n",
       "      <td>40fce26b-ce1e-4ccd-9fa2-889874c137f1</td>\n",
       "      <td>i love love the freedom of  selection and the ...</td>\n",
       "    </tr>\n",
       "    <tr>\n",
       "      <th>99</th>\n",
       "      <td>762d15e4-bb34-4be4-adc1-29bfe88a0eac</td>\n",
       "      <td>i think spotify is a great app and it is defin...</td>\n",
       "    </tr>\n",
       "  </tbody>\n",
       "</table>\n",
       "<p>100 rows × 2 columns</p>\n",
       "</div>"
      ],
      "text/plain": [
       "                               review_id  \\\n",
       "0   14a011a8-7544-47b4-8480-c502af0ac26f   \n",
       "1   bfa8876b-470e-4640-83a7-77427f7f37e8   \n",
       "2   70e8252f-058a-47d9-b066-df9e1571c970   \n",
       "3   672a155a-e81e-4d28-bdeb-a74c031bc072   \n",
       "4   bbc1bf95-ed36-41a1-8b98-0f2e314caea5   \n",
       "..                                   ...   \n",
       "95  bfe41bd7-1d21-4718-9f86-ee7d0d659556   \n",
       "96  0e98ddfb-7176-4417-87ab-4133162e1d13   \n",
       "97  62020b3d-bd57-429b-9323-bcddb256f8f0   \n",
       "98  40fce26b-ce1e-4ccd-9fa2-889874c137f1   \n",
       "99  762d15e4-bb34-4be4-adc1-29bfe88a0eac   \n",
       "\n",
       "                                          review_text  \n",
       "0                                    use it every day  \n",
       "1   i enjoy the awesome ui of this app, and it has...  \n",
       "2                 love it! especially the new design!  \n",
       "3               awesome ui, best music app out there!  \n",
       "4   as a professional android developer i'm glad t...  \n",
       "..                                                ...  \n",
       "95  love this app, has all the music i love whenev...  \n",
       "96  the app is great. never lags for me. doesn't d...  \n",
       "97  bluh. why could you not just update the old ap...  \n",
       "98  i love love the freedom of  selection and the ...  \n",
       "99  i think spotify is a great app and it is defin...  \n",
       "\n",
       "[100 rows x 2 columns]"
      ]
     },
     "execution_count": 12,
     "metadata": {},
     "output_type": "execute_result"
    }
   ],
   "source": [
    "data = data[['review_id','review_text']]\n",
    "data = data[:100]\n",
    "data"
   ]
  },
  {
   "cell_type": "code",
   "execution_count": 4,
   "metadata": {},
   "outputs": [
    {
     "name": "stderr",
     "output_type": "stream",
     "text": [
      "c:\\Users\\PF2L6BL6\\Documents\\luthfi\\office work\\llm_explore\\spotifyapp-review-chatbot\\.venv\\Lib\\site-packages\\transformers\\tokenization_utils_base.py:1617: FutureWarning: `clean_up_tokenization_spaces` was not set. It will be set to `True` by default. This behavior will be deprecated in transformers v4.45, and will be then set to `False` by default. For more details check this issue: https://github.com/huggingface/transformers/issues/31884\n",
      "  warnings.warn(\n"
     ]
    }
   ],
   "source": [
    "model = SentenceTransformer('all-MiniLM-L6-v2') "
   ]
  },
  {
   "cell_type": "code",
   "execution_count": null,
   "metadata": {},
   "outputs": [],
   "source": [
    "model = SentenceTransformer('all-MiniLM-L6-v2') \n",
    "data['embeddings'] = data['review_text'].apply(lambda x: model.encode(x))"
   ]
  },
  {
   "cell_type": "code",
   "execution_count": null,
   "metadata": {},
   "outputs": [],
   "source": []
  },
  {
   "cell_type": "code",
   "execution_count": null,
   "metadata": {},
   "outputs": [],
   "source": []
  }
 ],
 "metadata": {
  "kernelspec": {
   "display_name": "Python 3",
   "language": "python",
   "name": "python3"
  },
  "language_info": {
   "codemirror_mode": {
    "name": "ipython",
    "version": 3
   },
   "file_extension": ".py",
   "mimetype": "text/x-python",
   "name": "python",
   "nbconvert_exporter": "python",
   "pygments_lexer": "ipython3",
   "version": "3.11.9"
  }
 },
 "nbformat": 4,
 "nbformat_minor": 2
}
